{
 "cells": [
  {
   "cell_type": "markdown",
   "metadata": {},
   "source": [
    "## Objective - Rank universities based on different features"
   ]
  },
  {
   "cell_type": "markdown",
   "metadata": {},
   "source": [
    "#### Import modules and prepare dataset."
   ]
  },
  {
   "cell_type": "code",
   "execution_count": 13,
   "metadata": {},
   "outputs": [
    {
     "name": "stdout",
     "output_type": "stream",
     "text": [
      "% of missing data in 'world_rank' - 0.00%\n",
      "% of missing data in 'university_name' - 0.02%\n",
      "% of missing data in 'national_rank' - 0.02%\n",
      "% of missing data in 'total_score' - 77.52%\n",
      "% of missing data in 'alumni' - 0.02%\n",
      "% of missing data in 'award' - 0.04%\n",
      "% of missing data in 'hici' - 0.04%\n",
      "% of missing data in 'ns' - 0.45%\n",
      "% of missing data in 'pub' - 0.04%\n",
      "% of missing data in 'pcp' - 0.04%\n",
      "% of missing data in 'year' - 0.00%\n",
      "Duplication in dataset: True\n",
      "target.dtype: object\n",
      "target: [  1.   2.   3. ...  98.  99. 100.]\n"
     ]
    }
   ],
   "source": [
    "# Import sklearn tools\r\n",
    "from sklearn.svm import SVR\r\n",
    "from sklearn.neural_network import MLPClassifier, MLPRegressor\r\n",
    "from sklearn.manifold import TSNE\r\n",
    "from sklearn.model_selection import cross_validate, cross_val_predict\r\n",
    "from sklearn.pipeline import Pipeline\r\n",
    "from sklearn.preprocessing import StandardScaler\r\n",
    "\r\n",
    "# Import other libraries\r\n",
    "import pandas as pd\r\n",
    "import numpy as np\r\n",
    "import matplotlib.pyplot as plt\r\n",
    "import bisect\r\n",
    "from random import choice\r\n",
    "import os\r\n",
    "from IPython.display import display\r\n",
    "from sklearn.metrics import mean_squared_error\r\n",
    "\r\n",
    "# Load dataset\r\n",
    "dataset = pd.read_csv('shanghai_data.csv')\r\n",
    "\r\n",
    "# Check which columns have null values.\r\n",
    "for col in dataset.columns:\r\n",
    "    pct_missing = np.mean(dataset[col].isnull())\r\n",
    "    print(f\"% of missing data in '{col}' - {pct_missing*100:.2f}%\")\r\n",
    "\r\n",
    "# Fill the data.\r\n",
    "dataset.fillna(dataset.mean(), inplace=True)\r\n",
    "\r\n",
    "# Checking for duplicates. NOTE: world_rank will become the target.\r\n",
    "print('Duplication in dataset: {}'.format(dataset.duplicated(subset=['world_rank']).any()))    # -> True\r\n",
    "\r\n",
    "# NOTE: There are duplicates in the dataset because the rankings change every year, so the rankings are updated.\r\n",
    "\r\n",
    "# Split data into target and data variables.]\r\n",
    "data = dataset.loc[:, 'total_score':'pcp'].to_numpy()\r\n",
    "\r\n",
    "# Encoding target colum (target is not continuous).\r\n",
    "target = dataset.loc[:, 'world_rank'].to_numpy()\r\n",
    "\r\n",
    "# University names (for reference).\r\n",
    "university_names = dataset.loc[:, 'university_name'].to_numpy()\r\n",
    "\r\n",
    "print(f'target.dtype: {target.dtype}')    # -> object\r\n",
    "\r\n",
    "# NOTE: The reason why the above code returns object is bc the data is string,\r\n",
    "#       but the strings must be the same length, so it is stored in this dtype.\r\n",
    "\r\n",
    "# Get indexes where the targets can be converted to floats.\r\n",
    "indexes = []\r\n",
    "\r\n",
    "for index in range(len(target)):\r\n",
    "    if '-' not in target[index]:\r\n",
    "        indexes.append(index)\r\n",
    "\r\n",
    "print('target: {}'.format(target := target[indexes].astype(float)))"
   ]
  }
 ],
 "metadata": {
  "kernelspec": {
   "display_name": "Python 3",
   "language": "python",
   "name": "python3"
  },
  "language_info": {
   "codemirror_mode": {
    "name": "ipython",
    "version": 3
   },
   "file_extension": ".py",
   "mimetype": "text/x-python",
   "name": "python",
   "nbconvert_exporter": "python",
   "pygments_lexer": "ipython3",
   "version": "3.8.5"
  },
  "orig_nbformat": 2
 },
 "nbformat": 4,
 "nbformat_minor": 2
}